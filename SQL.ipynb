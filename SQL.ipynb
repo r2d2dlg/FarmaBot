{
 "cells": [
  {
   "cell_type": "code",
   "execution_count": 7,
   "id": "dcd1dfa8-4c44-4017-92dd-19ae56157f24",
   "metadata": {},
   "outputs": [],
   "source": [
    "from sqlalchemy import create_engine\n",
    "import pandas as pd\n",
    "\n",
    "# Define your connection parameters\n",
    "server = 'localhost'\n",
    "database = 'ChatbotFarmacia'\n",
    "driver = 'ODBC Driver 17 for SQL Server'  # Ensure this driver is installed\n",
    "\n",
    "# Create the connection string for SQL Server using Windows Authentication\n",
    "connection_string = (\n",
    "    f\"mssql+pyodbc://{server}/{database}\"\n",
    "    f\"?driver={driver.replace(' ', '+')}&trusted_connection=yes\"\n",
    ")\n",
    "\n",
    "# Create the SQLAlchemy engine\n",
    "engine = create_engine(connection_string)\n"
   ]
  },
  {
   "cell_type": "code",
   "execution_count": 8,
   "id": "e3d5b8f4-cdd7-4793-9916-40151aacf99f",
   "metadata": {},
   "outputs": [
    {
     "name": "stdout",
     "output_type": "stream",
     "text": [
      "     Generic Name Brand Name 1 Brand Name 2 Brand Name 3 Brand Name 4  \\\n",
      "0      Belatacept      Nulojix         None         None         None   \n",
      "1       Belimumab     Benlysta         None         None         None   \n",
      "2      Belinostat     Beleodaq         None         None         None   \n",
      "3  Bempedoic acid     Nexletol         None         None         None   \n",
      "4      Benazepril     Lotensin         None         None         None   \n",
      "\n",
      "  Brand Name 5 Brand Name 6  \\\n",
      "0         None         None   \n",
      "1         None         None   \n",
      "2         None         None   \n",
      "3         None         None   \n",
      "4         None         None   \n",
      "\n",
      "                                                Uses  \\\n",
      "0          Prevention of kidney transplant rejection   \n",
      "1                       Systemic lupus erythematosus   \n",
      "2  Treatment of relapsed or refractory peripheral...   \n",
      "3  Lowering LDL cholesterol in patients with hype...   \n",
      "4                                       Hypertension   \n",
      "\n",
      "                               Side Effects (Common)  \\\n",
      "0                     Hypertension, diarrhea, anemia   \n",
      "1                            Nausea, diarrhea, fever   \n",
      "2                             Nausea, fatigue, fever   \n",
      "3  Abdominal pain, muscle pain, elevated liver en...   \n",
      "4                         Cough, headache, dizziness   \n",
      "\n",
      "                                 Side Effects (Rare)  \\\n",
      "0  Post-transplant lymphoproliferative disorder, ...   \n",
      "1                     Depression, infusion reactions   \n",
      "2                 Cardiac toxicity, myelosuppression   \n",
      "3                               Tendon rupture, gout   \n",
      "4                           Angioedema, hyperkalemia   \n",
      "\n",
      "                   Similar Drugs Prescription  MedicineID  \n",
      "0        Basiliximab, Tacrolimus         True           1  \n",
      "1  Rituximab, Hydroxychloroquine         True           2  \n",
      "2         Vorinostat, Romidepsin         True           3  \n",
      "3      Statins, PCSK9 inhibitors         True           4  \n",
      "4          Lisinopril, Enalapril         True           5  \n"
     ]
    }
   ],
   "source": [
    "df = pd.read_sql_table(\"Medicines\", engine, schema='dbo')  # Adjust schema if necessary\n",
    "print(df.head())\n"
   ]
  },
  {
   "cell_type": "code",
   "execution_count": 3,
   "id": "820a5adc-f8d8-48e7-898f-5b8b453c2073",
   "metadata": {},
   "outputs": [],
   "source": [
    "%load_ext sql\n"
   ]
  },
  {
   "cell_type": "code",
   "execution_count": 4,
   "id": "48757a5f-2288-466e-b699-9b4c9ecc6b9a",
   "metadata": {},
   "outputs": [],
   "source": [
    "%sql mssql+pyodbc://localhost/ChatbotFarmacia?driver=ODBC+Driver+17+for+SQL+Server&trusted_connection=yes\n"
   ]
  },
  {
   "cell_type": "code",
   "execution_count": 5,
   "id": "0e3b9506-5001-41d6-b01e-2b1d6faf94f0",
   "metadata": {},
   "outputs": [],
   "source": [
    "%config SqlMagic.style = '_DEPRECATED_DEFAULT'"
   ]
  },
  {
   "cell_type": "code",
   "execution_count": 6,
   "id": "9c185dc9-d20e-4939-b5af-1de2b5292fad",
   "metadata": {},
   "outputs": [
    {
     "name": "stdout",
     "output_type": "stream",
     "text": [
      "['_DEPRECATED_ALL', '_DEPRECATED_DEFAULT', '_DEPRECATED_DOUBLE_BORDER', '_DEPRECATED_FRAME', '_DEPRECATED_HEADER', '_DEPRECATED_MARKDOWN', '_DEPRECATED_MSWORD_FRIENDLY', '_DEPRECATED_NONE', '_DEPRECATED_ORGMODE', '_DEPRECATED_PLAIN_COLUMNS', '_DEPRECATED_RANDOM', '_DEPRECATED_SINGLE_BORDER']\n"
     ]
    }
   ],
   "source": [
    "import prettytable\n",
    "print([style for style in dir(prettytable) if style.isupper()])"
   ]
  }
 ],
 "metadata": {
  "kernelspec": {
   "display_name": "Python [conda env:base] *",
   "language": "python",
   "name": "conda-base-py"
  },
  "language_info": {
   "codemirror_mode": {
    "name": "ipython",
    "version": 3
   },
   "file_extension": ".py",
   "mimetype": "text/x-python",
   "name": "python",
   "nbconvert_exporter": "python",
   "pygments_lexer": "ipython3",
   "version": "3.12.7"
  }
 },
 "nbformat": 4,
 "nbformat_minor": 5
}
